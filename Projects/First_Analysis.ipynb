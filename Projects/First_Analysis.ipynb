{
 "cells": [
  {
   "cell_type": "code",
   "execution_count": null,
   "id": "d294e956",
   "metadata": {},
   "outputs": [],
   "source": [
    "import pandas as pd\n",
    "import torch\n",
    "\n",
    "# Load your RNA-seq data (replace with your file path)\n",
    "df = pd.read_csv(\"/RNA-Project/Data/\", index_col=0)\n",
    "\n",
    "# Convert to PyTorch tensor\n",
    "tensor = torch.tensor(df.values, dtype=torch.float32)\n",
    "\n",
    "print(\"Tensor shape:\", tensor.shape)"
   ]
  }
 ],
 "metadata": {
  "language_info": {
   "name": "python"
  }
 },
 "nbformat": 4,
 "nbformat_minor": 5
}
