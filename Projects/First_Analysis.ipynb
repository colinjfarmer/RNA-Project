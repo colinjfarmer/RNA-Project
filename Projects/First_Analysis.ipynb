{
 "cells": [
  {
   "cell_type": "code",
   "execution_count": 2,
   "id": "d294e956",
   "metadata": {},
   "outputs": [
    {
     "name": "stdout",
     "output_type": "stream",
     "text": [
      "Tensor shape: torch.Size([22123, 4])\n"
     ]
    }
   ],
   "source": [
    "import pandas as pd\n",
    "import torch\n",
    "import torch.nn as nn\n",
    "import util\n",
    "\n",
    "# Load your RNA-seq data (replace with your file path)\n",
    "input_df = pd.read_csv(\"Data/Counts_Annotated.csv\")\n",
    "\n",
    "# Convert to PyTorch tensor\n",
    "# Select only the numeric columns for conversion\n",
    "numeric_df = input_df.select_dtypes(include=['number'])\n",
    "tensor = torch.tensor(numeric_df.values, dtype=torch.float64)\n",
    "\n",
    "print(\"Tensor shape:\", tensor.shape)"
   ]
  },
  {
   "cell_type": "code",
   "execution_count": 5,
   "id": "6f2a923b",
   "metadata": {},
   "outputs": [
    {
     "data": {
      "text/html": [
       "<div>\n",
       "<style scoped>\n",
       "    .dataframe tbody tr th:only-of-type {\n",
       "        vertical-align: middle;\n",
       "    }\n",
       "\n",
       "    .dataframe tbody tr th {\n",
       "        vertical-align: top;\n",
       "    }\n",
       "\n",
       "    .dataframe thead th {\n",
       "        text-align: right;\n",
       "    }\n",
       "</style>\n",
       "<table border=\"1\" class=\"dataframe\">\n",
       "  <thead>\n",
       "    <tr style=\"text-align: right;\">\n",
       "      <th></th>\n",
       "      <th>X</th>\n",
       "      <th>BC07</th>\n",
       "      <th>BC08</th>\n",
       "      <th>BC09</th>\n",
       "      <th>BC10</th>\n",
       "      <th>GENENAME</th>\n",
       "    </tr>\n",
       "  </thead>\n",
       "  <tbody>\n",
       "    <tr>\n",
       "      <th>0</th>\n",
       "      <td>Xkr4</td>\n",
       "      <td>0</td>\n",
       "      <td>10</td>\n",
       "      <td>0</td>\n",
       "      <td>0</td>\n",
       "      <td>X-linked Kx blood group related 4</td>\n",
       "    </tr>\n",
       "    <tr>\n",
       "      <th>1</th>\n",
       "      <td>Rp1</td>\n",
       "      <td>1</td>\n",
       "      <td>0</td>\n",
       "      <td>0</td>\n",
       "      <td>0</td>\n",
       "      <td>retinitis pigmentosa 1 (human)</td>\n",
       "    </tr>\n",
       "    <tr>\n",
       "      <th>2</th>\n",
       "      <td>Sox17</td>\n",
       "      <td>0</td>\n",
       "      <td>0</td>\n",
       "      <td>0</td>\n",
       "      <td>0</td>\n",
       "      <td>SRY (sex determining region Y)-box 17</td>\n",
       "    </tr>\n",
       "    <tr>\n",
       "      <th>3</th>\n",
       "      <td>Mrpl15</td>\n",
       "      <td>1314</td>\n",
       "      <td>1254</td>\n",
       "      <td>1531</td>\n",
       "      <td>1567</td>\n",
       "      <td>mitochondrial ribosomal protein L15</td>\n",
       "    </tr>\n",
       "    <tr>\n",
       "      <th>4</th>\n",
       "      <td>Lypla1</td>\n",
       "      <td>1423</td>\n",
       "      <td>1585</td>\n",
       "      <td>1600</td>\n",
       "      <td>1658</td>\n",
       "      <td>lysophospholipase 1</td>\n",
       "    </tr>\n",
       "  </tbody>\n",
       "</table>\n",
       "</div>"
      ],
      "text/plain": [
       "        X  BC07  BC08  BC09  BC10                               GENENAME\n",
       "0    Xkr4     0    10     0     0      X-linked Kx blood group related 4\n",
       "1     Rp1     1     0     0     0         retinitis pigmentosa 1 (human)\n",
       "2   Sox17     0     0     0     0  SRY (sex determining region Y)-box 17\n",
       "3  Mrpl15  1314  1254  1531  1567    mitochondrial ribosomal protein L15\n",
       "4  Lypla1  1423  1585  1600  1658                    lysophospholipase 1"
      ]
     },
     "execution_count": 5,
     "metadata": {},
     "output_type": "execute_result"
    }
   ],
   "source": [
    "input_df.head()"
   ]
  }
 ],
 "metadata": {
  "kernelspec": {
   "display_name": ".venv",
   "language": "python",
   "name": "python3"
  },
  "language_info": {
   "codemirror_mode": {
    "name": "ipython",
    "version": 3
   },
   "file_extension": ".py",
   "mimetype": "text/x-python",
   "name": "python",
   "nbconvert_exporter": "python",
   "pygments_lexer": "ipython3",
   "version": "3.9.23"
  }
 },
 "nbformat": 4,
 "nbformat_minor": 5
}
