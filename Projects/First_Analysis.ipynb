{
 "cells": [
  {
   "cell_type": "code",
   "execution_count": null,
   "id": "d294e956",
   "metadata": {},
   "outputs": [
    {
     "ename": "",
     "evalue": "",
     "output_type": "error",
     "traceback": [
      "\u001b[1;31mRunning cells with 'Python 3.13.5' requires the ipykernel package.\n",
      "\u001b[1;31m<a href='command:jupyter.createPythonEnvAndSelectController'>Create a Python Environment</a> with the required packages.\n",
      "\u001b[1;31mOr install 'ipykernel' using the command: '/home/linuxbrew/.linuxbrew/bin/python3 -m pip install ipykernel -U --user --force-reinstall'"
     ]
    }
   ],
   "source": [
    "import pandas as pd\n",
    "import torch\n",
    "import torch.nn as nn\n",
    "\n",
    "# Load your RNA-seq data (replace with your file path)\n",
    "input_df = pd.read_csv(\"Counts_Annotated.csv\")\n",
    "\n",
    "# Convert to PyTorch tensor\n",
    "tensor = torch.tensor(df.values, dtype=torch.float32)\n",
    "\n",
    "print(\"Tensor shape:\", tensor.shape)"
   ]
  }
 ],
 "metadata": {
  "kernelspec": {
   "display_name": "Python 3",
   "language": "python",
   "name": "python3"
  },
  "language_info": {
   "name": "python",
   "version": "3.13.5"
  }
 },
 "nbformat": 4,
 "nbformat_minor": 5
}
